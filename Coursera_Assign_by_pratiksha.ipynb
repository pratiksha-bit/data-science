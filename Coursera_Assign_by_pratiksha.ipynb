{
 "cells": [
  {
   "cell_type": "markdown",
   "id": "d5de6ab8-6e34-4d53-9389-87b7dc55a6b3",
   "metadata": {},
   "source": [
    "# Data Science Final Project"
   ]
  },
  {
   "cell_type": "markdown",
   "id": "ac2460ca-9e69-4cf4-9631-61187681ee5d",
   "metadata": {},
   "source": [
    "## Introduction\n",
    "\n",
    "This notebook contains various exercises to demonstrate the use of Markdown and Python code in a Jupyter notebook. The exercises cover topics such as data science languages, libraries, arithmetic operations, and more.\n"
   ]
  },
  {
   "cell_type": "markdown",
   "id": "04b4b596-b5e7-4211-8a69-84bdc4d97a18",
   "metadata": {},
   "source": [
    "## Data Science Languages\n",
    "\n",
    "- Python\n",
    "- R\n",
    "- SQL\n",
    "- Julia\n",
    "- Scala\n"
   ]
  },
  {
   "cell_type": "markdown",
   "id": "2d46795b-fc27-4e17-969c-761940f242b6",
   "metadata": {},
   "source": [
    "## Data Science Libraries\n",
    "\n",
    "- Pandas\n",
    "- NumPy\n",
    "- Matplotlib\n",
    "- Scikit-learn\n",
    "- TensorFlow\n",
    "- Keras\n"
   ]
  },
  {
   "cell_type": "markdown",
   "id": "e14b9b18-32d7-463f-a204-f33f3f75fa85",
   "metadata": {},
   "source": [
    "## Data Science Tools\n",
    "\n",
    "| Tool        | Purpose                          |\n",
    "|-------------|----------------------------------|\n",
    "| Jupyter     | Interactive notebooks for code   |\n",
    "| GitHub      | Version control and collaboration|\n",
    "| Docker      | Containerization for environments|\n",
    "| TensorFlow  | Machine learning library         |\n",
    "| Apache Spark| Big data processing framework    |\n"
   ]
  },
  {
   "cell_type": "markdown",
   "id": "e7b91636-7365-4820-9f0f-db7646d1c92b",
   "metadata": {},
   "source": [
    "## Arithmetic Expressions Examples\n",
    "\n",
    "In the following section, we will demonstrate simple arithmetic expressions in Python.\n"
   ]
  },
  {
   "cell_type": "code",
   "execution_count": 6,
   "id": "841e2cea-99b5-40eb-8656-a8b8625ee799",
   "metadata": {},
   "outputs": [
    {
     "name": "stdout",
     "output_type": "stream",
     "text": [
      "Addition: 5 + 3 = 8\n",
      "Subtraction: 10 - 4 = 6\n",
      "Multiplication: 7 * 6 = 42\n",
      "Division: 20 / 4 = 5.0\n"
     ]
    }
   ],
   "source": [
    "# Example of arithmetic operations in Python\n",
    "\n",
    "# Addition\n",
    "addition = 5 + 3\n",
    "print(\"Addition: 5 + 3 =\", addition)\n",
    "\n",
    "# Subtraction\n",
    "subtraction = 10 - 4\n",
    "print(\"Subtraction: 10 - 4 =\", subtraction)\n",
    "\n",
    "# Multiplication\n",
    "multiplication = 7 * 6\n",
    "print(\"Multiplication: 7 * 6 =\", multiplication)\n",
    "\n",
    "# Division\n",
    "division = 20 / 4\n",
    "print(\"Division: 20 / 4 =\", division)\n"
   ]
  },
  {
   "cell_type": "code",
   "execution_count": null,
   "id": "de6dfc65-fa11-427d-8cba-f4f44168a0da",
   "metadata": {},
   "outputs": [],
   "source": [
    "# Multiplying and adding numbers\n",
    "a = 5\n",
    "b = 10\n",
    "result = a * b + 15\n",
    "result\n"
   ]
  },
  {
   "cell_type": "code",
   "execution_count": 8,
   "id": "de1892c5-824e-4038-b225-8aea2eacc0a7",
   "metadata": {},
   "outputs": [
    {
     "data": {
      "text/plain": [
       "2.5"
      ]
     },
     "execution_count": 8,
     "metadata": {},
     "output_type": "execute_result"
    }
   ],
   "source": [
    "# Convert minutes to hours\n",
    "minutes = 150\n",
    "hours = minutes / 60\n",
    "hours\n"
   ]
  },
  {
   "cell_type": "markdown",
   "id": "abbaa181-e051-4e22-94d5-29a4fb361ab8",
   "metadata": {},
   "source": [
    "## Objectives\n",
    "\n",
    "- To demonstrate how to create and format Markdown cells.\n",
    "- To perform basic arithmetic operations using Python.\n",
    "- To display and manipulate data using Python code.\n",
    "- To understand how to use various data science tools and libraries.\n"
   ]
  },
  {
   "cell_type": "markdown",
   "id": "d83b4d17-967c-40f2-b7c9-9366ab0f5be6",
   "metadata": {},
   "source": [
    "## Author\n",
    "\n",
    "This notebook was created by **Pratiksha Patil**.\n"
   ]
  }
 ],
 "metadata": {
  "kernelspec": {
   "display_name": "Python 3 (ipykernel)",
   "language": "python",
   "name": "python3"
  },
  "language_info": {
   "codemirror_mode": {
    "name": "ipython",
    "version": 3
   },
   "file_extension": ".py",
   "mimetype": "text/x-python",
   "name": "python",
   "nbconvert_exporter": "python",
   "pygments_lexer": "ipython3",
   "version": "3.11.0"
  }
 },
 "nbformat": 4,
 "nbformat_minor": 5
}
